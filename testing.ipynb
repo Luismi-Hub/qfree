{
 "cells": [
  {
   "cell_type": "code",
   "execution_count": 95,
   "metadata": {},
   "outputs": [
    {
     "name": "stdout",
     "output_type": "stream",
     "text": [
      "The autoreload extension is already loaded. To reload it, use:\n",
      "  %reload_ext autoreload\n"
     ]
    }
   ],
   "source": [
    "import numpy as np\n",
    "\n",
    "from strat import MACDandEMA\n",
    "\n",
    "from quantfreedom.enums import *\n",
    "from quantfreedom.helper_funcs import dl_ex_candles\n",
    "from quantfreedom.simulate import run_df_backtest, or_backtest\n",
    "\n",
    "\n",
    "np.set_printoptions(formatter={\"float_kind\": \"{:0.2f}\".format})\n",
    "\n",
    "%load_ext autoreload\n",
    "%autoreload 2"
   ]
  },
  {
   "cell_type": "code",
   "execution_count": 96,
   "metadata": {},
   "outputs": [],
   "source": [
    "candles = dl_ex_candles(\n",
    "    exchange=\"bybit\",\n",
    "    symbol='BTCUSDT',\n",
    "    timeframe='15m',\n",
    "    candles_to_dl=400,\n",
    ")"
   ]
  },
  {
   "cell_type": "code",
   "execution_count": 97,
   "metadata": {},
   "outputs": [],
   "source": [
    "macd_strat=MACDandEMA(\n",
    "\n",
    "    long_short=\"long\",\n",
    "    ema_length=np.arange(100, 301, 100),\n",
    "    fast_length=np.arange(10, 31, 10),\n",
    "    macd_below=np.arange(0, 26, 25),\n",
    "    signal_smoothing=np.arange(5, 16, 5),\n",
    "    slow_length=np.arange(30, 91, 30)\n",
    "\n",
    ")"
   ]
  },
  {
   "cell_type": "code",
   "execution_count": 98,
   "metadata": {},
   "outputs": [],
   "source": [
    "backtest_settings = BacktestSettings()\n",
    "\n",
    "exchange_settings = ExchangeSettings(\n",
    "    asset_tick_step=3,\n",
    "    leverage_mode=1,\n",
    "    leverage_tick_step=2,\n",
    "    limit_fee_pct=0.0003,\n",
    "    market_fee_pct=0.0006,\n",
    "    max_asset_size=100.0,\n",
    "    max_leverage=150.0,\n",
    "    min_asset_size=0.001,\n",
    "    min_leverage=1.0,\n",
    "    mmr_pct=0.004,\n",
    "    position_mode=3,\n",
    "    price_tick_step=1\n",
    ")"
   ]
  },
  {
   "cell_type": "code",
   "execution_count": 99,
   "metadata": {},
   "outputs": [],
   "source": [
    "static_os = StaticOrderSettings(\n",
    "    increase_position_type=IncreasePositionType.RiskPctAccountEntrySize,\n",
    "    leverage_strategy_type=LeverageStrategyType.Dynamic,\n",
    "    pg_min_max_sl_bcb=\"min\",\n",
    "    sl_strategy_type=StopLossStrategyType.SLBasedOnCandleBody,\n",
    "    sl_to_be_bool=False,\n",
    "    starting_bar=50,\n",
    "    starting_equity=1000.0,\n",
    "    static_leverage=None,\n",
    "    tp_fee_type=\"limit\",\n",
    "    tp_strategy_type=TakeProfitStrategyType.RiskReward,\n",
    "    trail_sl_bool=True,\n",
    "    z_or_e_type=None\n",
    "    \n",
    ")"
   ]
  },
  {
   "cell_type": "code",
   "execution_count": 100,
   "metadata": {},
   "outputs": [],
   "source": [
    "dos_arrays = DynamicOrderSettingsArrays(\n",
    "   # max_equity_risk_pct=np.array([12]),\n",
    "    max_trades=np.array([0]),\n",
    "    #risk_account_pct_size=np.array([3]),\n",
    "    account_pct_risk_per_trade=np.array([3]),\n",
    "    risk_reward=np.array([5]),\n",
    "    sl_based_on_add_pct=np.array([0.1,0.25]),\n",
    "    sl_based_on_lookback=np.array([20,50]),\n",
    "    sl_bcb_type=np.array([CandleBodyType.Low]),\n",
    "    sl_to_be_cb_type=np.array([CandleBodyType.Nothing]),\n",
    "    sl_to_be_when_pct=np.array([0]),\n",
    "    trail_sl_bcb_type=np.array([CandleBodyType.Low]),\n",
    "    trail_sl_by_pct=np.array([0.5,1.0]),\n",
    "    trail_sl_when_pct=np.array([1,2]),\n",
    ")"
   ]
  },
  {
   "cell_type": "code",
   "execution_count": 101,
   "metadata": {},
   "outputs": [
    {
     "name": "stdout",
     "output_type": "stream",
     "text": [
      "Starting the backtest now ... and also here are some stats for your backtest.\n",
      "\n",
      "Total indicator settings to test: 144\n",
      "Total order settings to test: 16\n",
      "Total combinations of settings to test: 2,304\n",
      "Total candles: 400\n",
      "Total candles to test: 921,600\n"
     ]
    }
   ],
   "source": [
    "backtest_results = run_df_backtest(\n",
    "    backtest_settings=backtest_settings,\n",
    "    candles=candles,\n",
    "    dos_arrays=dos_arrays,\n",
    "    exchange_settings=exchange_settings,\n",
    "    static_os=static_os,\n",
    "    strategy=macd_strat,\n",
    "    \n",
    ")"
   ]
  },
  {
   "cell_type": "code",
   "execution_count": 102,
   "metadata": {},
   "outputs": [
    {
     "data": {
      "text/html": [
       "<div>\n",
       "<style scoped>\n",
       "    .dataframe tbody tr th:only-of-type {\n",
       "        vertical-align: middle;\n",
       "    }\n",
       "\n",
       "    .dataframe tbody tr th {\n",
       "        vertical-align: top;\n",
       "    }\n",
       "\n",
       "    .dataframe thead th {\n",
       "        text-align: right;\n",
       "    }\n",
       "</style>\n",
       "<table border=\"1\" class=\"dataframe\">\n",
       "  <thead>\n",
       "    <tr style=\"text-align: right;\">\n",
       "      <th></th>\n",
       "      <th>ind_set_idx</th>\n",
       "      <th>dos_index</th>\n",
       "      <th>total_trades</th>\n",
       "      <th>wins</th>\n",
       "      <th>losses</th>\n",
       "      <th>gains_pct</th>\n",
       "      <th>win_rate</th>\n",
       "      <th>qf_score</th>\n",
       "      <th>fees_paid</th>\n",
       "      <th>ending_eq</th>\n",
       "      <th>total_pnl</th>\n",
       "    </tr>\n",
       "  </thead>\n",
       "  <tbody>\n",
       "  </tbody>\n",
       "</table>\n",
       "</div>"
      ],
      "text/plain": [
       "Empty DataFrame\n",
       "Columns: [ind_set_idx, dos_index, total_trades, wins, losses, gains_pct, win_rate, qf_score, fees_paid, ending_eq, total_pnl]\n",
       "Index: []"
      ]
     },
     "execution_count": 102,
     "metadata": {},
     "output_type": "execute_result"
    }
   ],
   "source": [
    "backtest_results"
   ]
  }
 ],
 "metadata": {
  "kernelspec": {
   "display_name": "qfree",
   "language": "python",
   "name": "python3"
  },
  "language_info": {
   "codemirror_mode": {
    "name": "ipython",
    "version": 3
   },
   "file_extension": ".py",
   "mimetype": "text/x-python",
   "name": "python",
   "nbconvert_exporter": "python",
   "pygments_lexer": "ipython3",
   "version": "3.11.0"
  }
 },
 "nbformat": 4,
 "nbformat_minor": 2
}
